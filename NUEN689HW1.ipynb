{
 "cells": [
  {
   "cell_type": "code",
   "execution_count": 3,
   "id": "4035801f-ef69-474c-bcba-4fa5ef1dfe05",
   "metadata": {},
   "outputs": [],
   "source": [
    "import numpy as np\n",
    "import math\n",
    "import matplotlib.pyplot as plt"
   ]
  },
  {
   "cell_type": "code",
   "execution_count": 71,
   "id": "51c91357-cb37-495c-a28e-aa738214cffe",
   "metadata": {},
   "outputs": [
    {
     "name": "stdout",
     "output_type": "stream",
     "text": [
      "okay\n"
     ]
    }
   ],
   "source": [
    "#Absorber case, 1 particle\n",
    "\n",
    "#Parameters\n",
    "x_beg = 0\n",
    "x_end = 0\n",
    "L = 10\n",
    "sigma_a = 0.5\n",
    "sigma_t = 0.5  # Total macroscopic cross-section (cm^-1)\n",
    "mu = 1\n",
    "N_bins = 200\n",
    "\n",
    "#Distance Traveled by particle\n",
    "sigma_t = 0.5  # Total macroscopic cross-section (cm^-1)\n",
    "num_samples = 100  # Number of distances to sample\n",
    "ran_samples = np.random.rand(num_samples)\n",
    "\n",
    "# Sampling distances\n",
    "d = -1 / sigma_t * np.log(ran_samples[0])\n",
    "\n",
    "#Add distance before any interaction occurs to initial position, accounting for angle\n",
    "x_end = x_beg + mu * d\n",
    "\n",
    "#Check if particle left the slab\n",
    "if x_end >= L:\n",
    "    x_end = L\n",
    "elif x_end < 0:\n",
    "    x_end = 0\n",
    "\n",
    "#Determine the length of each bin and set up counters for each bin to tally the particle\n",
    "bin_length = L/ N_bins\n",
    "bins_tally = np.linspace(0,0,200)\n",
    "\n",
    "#Determine the bin that the particle has its first interaction in, and total track length in final bin.\n",
    "bin_num = x_end / bin_length\n",
    "bin_before = math.floor(bin_num)\n",
    "bin_current_length = (bin_num - bin_before) * bin_length\n",
    "\n",
    "#Add tallies to respective bins based on path length traveled in each bin\n",
    "for i in range(bin_before):\n",
    "    bins_tally[i] = bins_tally[i] + bin_length\n",
    "\n",
    "#Add partial tally to bin where particle has its first interaction\n",
    "if x_end != L: \n",
    "    bins_tally[bin_before] = bins_tally[bin_before] + bin_current_length\n",
    "\n",
    "#Count Leakages\n",
    "left_leakage_tally = 0\n",
    "right_leakage_tally = 0\n",
    "if x_end ==0:\n",
    "    left_leakage_tally = left_leakage_tally + 1\n",
    "if x_end ==L:\n",
    "    right_leakage_tally = right_leakage_tally +1\n",
    "\n",
    "#Check absorbtion at the end of particle path length (should be 100% absorbtion rate, as it is the only interaction type)\n",
    "if x_end > 0 and x_end < L:\n",
    "    rand = np.random.rand(1)\n",
    "    if rand <= (sigma_a/sigma_t):\n",
    "        print(\"okay\")\n",
    "        #continue\n",
    "\n"
   ]
  },
  {
   "cell_type": "code",
   "execution_count": null,
   "id": "89bbe417-c507-4118-ba7e-f59221ca8267",
   "metadata": {},
   "outputs": [],
   "source": []
  }
 ],
 "metadata": {
  "kernelspec": {
   "display_name": "Python 3 (ipykernel)",
   "language": "python",
   "name": "python3"
  },
  "language_info": {
   "codemirror_mode": {
    "name": "ipython",
    "version": 3
   },
   "file_extension": ".py",
   "mimetype": "text/x-python",
   "name": "python",
   "nbconvert_exporter": "python",
   "pygments_lexer": "ipython3",
   "version": "3.12.4"
  }
 },
 "nbformat": 4,
 "nbformat_minor": 5
}
